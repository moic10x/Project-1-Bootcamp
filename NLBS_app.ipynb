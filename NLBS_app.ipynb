{
 "cells": [
  {
   "cell_type": "code",
   "execution_count": 1,
   "id": "1ac61c99",
   "metadata": {},
   "outputs": [],
   "source": [
    "import questionary"
   ]
  },
  {
   "cell_type": "code",
   "execution_count": 1,
   "id": "4bfccd74",
   "metadata": {},
   "outputs": [],
   "source": [
    "# def user_info():\n",
    "#     \"\"\"Prompt dialog to get the analysis user wants to run.\n",
    "\n",
    "#     Returns:\n",
    "#         Returns the applicant's choice.\n",
    "#     \"\"\"\n",
    "\n",
    "#     column_choice = questionary.text(\"What's your credit score?\",choices=[\n",
    "#         'Paid Maternity Leave',\n",
    "#         'Paid Paternity Leave',\n",
    "#         'Unpaid Maternity Leave',\n",
    "#         'Unpaid Paternity Leave',\n",
    "#         ]).ask() \n",
    "#     column_choice = str(column_choice)\n",
    "#     return column_choice\n",
    "\n",
    "# def analysis(column_choice):\n",
    "#     df_regular = df_regular.loc[:,[\"Sector\", column_choice]]\n",
    "#     return df_regular.plot(kind='bar')"
   ]
  },
  {
   "cell_type": "code",
   "execution_count": 4,
   "id": "492b14cb",
   "metadata": {},
   "outputs": [],
   "source": [
    "def load_pd_csv(Path):\n",
    "    \"\"\"Ask for the file path to the latest banking data and load the CSV file.\n",
    "\n",
    "    Returns:\n",
    "        The bank data from the data rate sheet CSV file.\n",
    "    \"\"\"\n",
    "\n",
    "    csvpath = questionary.text(\"Enter a file path to a rate-sheet (.csv):\").ask()\n",
    "    csvpath = Path(csvpath)\n",
    "    if not csvpath.exists():\n",
    "        sys.exit(f\"Oops! Can't find this path: {csvpath}\")\n",
    "\n",
    "    return pd.read_csv(csvpath)"
   ]
  },
  {
   "cell_type": "code",
   "execution_count": 5,
   "id": "53a1f8aa",
   "metadata": {},
   "outputs": [
    {
     "ename": "NameError",
     "evalue": "name 'questionary' is not defined",
     "output_type": "error",
     "traceback": [
      "\u001b[0;31m---------------------------------------------------------------------------\u001b[0m",
      "\u001b[0;31mNameError\u001b[0m                                 Traceback (most recent call last)",
      "Cell \u001b[0;32mIn[5], line 1\u001b[0m\n\u001b[0;32m----> 1\u001b[0m \u001b[43mload_pd_csv\u001b[49m\u001b[43m(\u001b[49m\u001b[38;5;124;43m'\u001b[39;49m\u001b[38;5;124;43mParental_Leave.csv\u001b[39;49m\u001b[38;5;124;43m'\u001b[39;49m\u001b[43m)\u001b[49m\n",
      "Cell \u001b[0;32mIn[4], line 8\u001b[0m, in \u001b[0;36mload_pd_csv\u001b[0;34m(Path)\u001b[0m\n\u001b[1;32m      1\u001b[0m \u001b[38;5;28;01mdef\u001b[39;00m \u001b[38;5;21mload_pd_csv\u001b[39m(Path):\n\u001b[1;32m      2\u001b[0m     \u001b[38;5;124;03m\"\"\"Ask for the file path to the latest banking data and load the CSV file.\u001b[39;00m\n\u001b[1;32m      3\u001b[0m \n\u001b[1;32m      4\u001b[0m \u001b[38;5;124;03m    Returns:\u001b[39;00m\n\u001b[1;32m      5\u001b[0m \u001b[38;5;124;03m        The bank data from the data rate sheet CSV file.\u001b[39;00m\n\u001b[1;32m      6\u001b[0m \u001b[38;5;124;03m    \"\"\"\u001b[39;00m\n\u001b[0;32m----> 8\u001b[0m     csvpath \u001b[38;5;241m=\u001b[39m \u001b[43mquestionary\u001b[49m\u001b[38;5;241m.\u001b[39mtext(\u001b[38;5;124m\"\u001b[39m\u001b[38;5;124mEnter a file path to a rate-sheet (.csv):\u001b[39m\u001b[38;5;124m\"\u001b[39m)\u001b[38;5;241m.\u001b[39mask()\n\u001b[1;32m      9\u001b[0m     csvpath \u001b[38;5;241m=\u001b[39m Path(csvpath)\n\u001b[1;32m     10\u001b[0m     \u001b[38;5;28;01mif\u001b[39;00m \u001b[38;5;129;01mnot\u001b[39;00m csvpath\u001b[38;5;241m.\u001b[39mexists():\n",
      "\u001b[0;31mNameError\u001b[0m: name 'questionary' is not defined"
     ]
    }
   ],
   "source": [
    "load_pd_csv('Parental_Leave.csv')"
   ]
  },
  {
   "cell_type": "code",
   "execution_count": null,
   "id": "7198c018",
   "metadata": {},
   "outputs": [],
   "source": [
    "def run():\n",
    "    \"\"\"The main function for running the script.\"\"\"\n",
    "\n",
    "    # Load the latest Bank data\n",
    "    bank_data = load_pd_csv()\n",
    "\n",
    "    # Get the applicant's information\n",
    "    column_choice = user_info()\n",
    "\n",
    "    # Find qualifying loans\n",
    "    qualifying_loans = find_qualifying_loans(\n",
    "        bank_data, column_choice)\n",
    "\n",
    "    # Save qualifying loans\n",
    "    save_qualifying_loans(qualifying_loans)\n",
    "\n",
    "\n",
    "if __name__ == \"__main__\":\n",
    "    fire.Fire(run)"
   ]
  }
 ],
 "metadata": {
  "kernelspec": {
   "display_name": "dev",
   "language": "python",
   "name": "dev"
  },
  "language_info": {
   "codemirror_mode": {
    "name": "ipython",
    "version": 3
   },
   "file_extension": ".py",
   "mimetype": "text/x-python",
   "name": "python",
   "nbconvert_exporter": "python",
   "pygments_lexer": "ipython3",
   "version": "3.7.13"
  }
 },
 "nbformat": 4,
 "nbformat_minor": 5
}
